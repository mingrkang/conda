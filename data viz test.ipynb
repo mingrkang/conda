{
 "cells": [
  {
   "cell_type": "markdown",
   "metadata": {},
   "source": [
    "## CSE6242 Project Data Visualization Experiments"
   ]
  },
  {
   "cell_type": "markdown",
   "metadata": {},
   "source": [
    "#### Trying out interactive map visualization using geopandas / folium / ipyleaflet libraries\n",
    "\n",
    "Experiment #1\n",
    "- Focus on Wake County, NC (Raleigh and surroundings). GeoJSON files are saved here: https://github.com/mingrkang/conda/data \n",
    "- Overlays polling place, voting precinct, and census block layers onto one map. Can select which layers to display/hide.\n",
    "- Mousing over a polling place (blue dots) shows polling place name and assigned voting precinct\n",
    "- Clicking on a census block shows registered voter count for the 2020 general election and other details\n",
    "- Chloropleth (heatmap) based on registered voter count per census block "
   ]
  },
  {
   "cell_type": "code",
   "execution_count": null,
   "metadata": {},
   "outputs": [],
   "source": [
    "# General purpose libraries.\n",
    "import pandas as pd\n",
    "import os\n",
    "import numpy as np\n",
    "\n",
    "# Geospatial libraries.\n",
    "import geopandas as gpd\n",
    "import rasterio\n",
    "from rasterio.plot import show\n",
    "import folium\n",
    "import shapely\n",
    "\n",
    "# Voronoi and Zonal statistics libraries\n",
    "from rasterstats import zonal_stats\n",
    "\n",
    "# Visualization libraries.\n",
    "from IPython.display import display\n",
    "from matplotlib import pyplot as plt\n",
    "import matplotlib.colors as mcolors"
   ]
  },
  {
   "cell_type": "markdown",
   "metadata": {},
   "source": [
    "Loading data"
   ]
  },
  {
   "cell_type": "code",
   "execution_count": null,
   "metadata": {},
   "outputs": [],
   "source": [
    "data_path = os.path.join(os.getcwd(),\"data\")\n",
    "\n",
    "# Census Block layer\n",
    "Census_Blocks = gpd.read_file(\n",
    "    os.path.join(data_path, \"Census_Block_Stats_with_Precinct_WakeCounty.geojson\")\n",
    ")\n",
    "# Voting precinct layer\n",
    "Voting_Precincts = gpd.read_file(\n",
    "    os.path.join(data_path, \"Voting_Precincts_WakeCounty.geojson\")\n",
    ")    \n",
    "\n",
    "# Polling place layer\n",
    "Polling_Places = gpd.read_file(os.path.join(data_path, \"Polling_Places_WakeCounty.geojson\"))"
   ]
  },
  {
   "cell_type": "markdown",
   "metadata": {},
   "source": [
    "Looking at the loaded data"
   ]
  },
  {
   "cell_type": "code",
   "execution_count": null,
   "metadata": {},
   "outputs": [],
   "source": [
    "display(Census_Blocks)"
   ]
  },
  {
   "cell_type": "code",
   "execution_count": null,
   "metadata": {},
   "outputs": [],
   "source": [
    "display(Voting_Precincts)"
   ]
  },
  {
   "cell_type": "code",
   "execution_count": null,
   "metadata": {},
   "outputs": [],
   "source": [
    "display(Polling_Places)"
   ]
  },
  {
   "cell_type": "markdown",
   "metadata": {},
   "source": [
    "Loading map visualization"
   ]
  },
  {
   "cell_type": "code",
   "execution_count": null,
   "metadata": {},
   "outputs": [],
   "source": [
    "# explore() is a geopandas method to create interactive maps.\n",
    "# we assign it to the variable 'combined_map', to add more map layers after.\n",
    "combined_map = Voting_Precincts.explore(\n",
    "    color=\"blue\",\n",
    "#    column=\"enr_desc\",  # Make choropleth based on \"category\" column.\n",
    "    tooltip=\"enr_desc\",  # Show \"name\" value in tooltip (on hover)\n",
    "    # Do not show column label in the tooltip.\n",
    "    tooltip_kwds=dict(labels=False),\n",
    "    cmap=\"gnuplot2\",  # Use \"gnuplot2\" matplotlib color scheme.\n",
    "    style_kwds=dict(\n",
    "        fill=True, opacity=1.0, fillOpacity=0.0, interactive=True\n",
    "    ),\n",
    "    smooth_factor=0,\n",
    "    name=\"Voting_Precincts\",  # Name of the layer in the map.\n",
    ")\n",
    "\n",
    "# Add Census Blocks as second layer\n",
    "Census_Blocks.explore(\n",
    "    m=combined_map,  # Pass the previous map object\n",
    "    color=\"black\",  # Use black color for borders.\n",
    "    column=\"g20201103_reg_all\",  # Make choropleth based on \"total_reg\" column.\n",
    "    cmap = \"afmhot_r\", #color scheme\n",
    "    # Styling instructions. We fill the wards with lightgrey color (when hovering over them),\n",
    "    # and change the opacity of different elements.\n",
    "    style_kwds=dict(\n",
    "        fill=True, opacity=0.0, fillOpacity=0.5, interactive=True\n",
    "    ),\n",
    "    tiles=\"OpenStreetMap\",  # Use Open Street Map background tiles.\n",
    "#    tiles=\"CartoDB positron\",\n",
    "    tooltip=False,  # Do not show tooltip when hovering on wards.\n",
    "    popup=[\"BLOCKCE20\", \"prec_id\",\"g20201103_reg_all\"],  # Show the name of the ward on click.\n",
    "    # Do not show the column label \"ward_name\" in the popup.\n",
    "#    popup_kwds=dict(labels=False),\n",
    "    smooth_factor=0,  # Prevent smoothing of the polygons edges.\n",
    "    name=\"Census_Blocks\",  # Name of the layer in the map.\n",
    ")\n",
    "\n",
    "# Add Polling Places as third layer\n",
    "Polling_Places.explore(\n",
    "    m=combined_map,  # Pass the previous map object.\n",
    "#    column=\"USER_count\",  # Make choropleth based on \"category\" column.\n",
    "    tooltip=[\"USER_pol_1\",\"USER_preci\"],  # Show values in tooltip (on hover)\n",
    "    # Do not show column label in the tooltip.\n",
    "    tooltip_kwds=dict(labels=False),\n",
    "    # Show the selected values in popup (on click).\n",
    "    popup=[\"USER_count\", \"USER_pol_1\", \"USER_preci\"],\n",
    "#    cmap=\"gnuplot2\",  # Use \"gnuplot2\" matplotlib color scheme.\n",
    "    marker_kwds=dict(radius=5),  # Size of the points.\n",
    "    # Styling instructions. We draw small black circles around our points,\n",
    "    # and change the opacity of different elements.\n",
    "    style_kwds=dict(color=\"black\", weight=1, fill=True, opacity=0.5, fillOpacity=0.8),\n",
    "    name=\"Polling_Places\",  # Name of the layer in the map.\n",
    ")\n",
    "\n",
    "# Use the folium library (which Geopandas is based on for interactive mapping) to add layer control\n",
    "folium.LayerControl().add_to(combined_map)\n",
    "\n",
    "combined_map"
   ]
  }
 ],
 "metadata": {
  "kernelspec": {
   "display_name": "cse6242_project",
   "language": "python",
   "name": "python3"
  },
  "language_info": {
   "codemirror_mode": {
    "name": "ipython",
    "version": 3
   },
   "file_extension": ".py",
   "mimetype": "text/x-python",
   "name": "python",
   "nbconvert_exporter": "python",
   "pygments_lexer": "ipython3",
   "version": "3.8.10"
  }
 },
 "nbformat": 4,
 "nbformat_minor": 2
}
